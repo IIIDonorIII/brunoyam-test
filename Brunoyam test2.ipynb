{
 "cells": [
  {
   "cell_type": "code",
   "execution_count": null,
   "metadata": {},
   "outputs": [],
   "source": [
    "#модуль 3 ч.1 ур 1\n",
    "x = int(input('Введите сумму вклада: '))\n",
    "p = int(input('Введите процент: '))\n",
    "y = int(input('Введите сумму цели: '))\n",
    "i = 0\n",
    "while x < y:\n",
    "    x *= 1 + p / 100\n",
    "    x = int(100 * x) / 100\n",
    "    i += 1\n",
    "print('Понадобится ', i)"
   ]
  },
  {
   "cell_type": "code",
   "execution_count": 1,
   "metadata": {},
   "outputs": [
    {
     "name": "stdout",
     "output_type": "stream",
     "text": [
      "Сумма цифр числа равна:  6\n"
     ]
    }
   ],
   "source": [
    "#модуль 3 ч.1 ур 3\n",
    "num = int(input(\"Введите целое: \"))\n",
    "sum = 0\n",
    "while (num != 0):\n",
    "    sum = sum + num % 10\n",
    "    num = num // 10\n",
    "print(\"Сумма цифр числа равна: \", sum)\n"
   ]
  },
  {
   "cell_type": "code",
   "execution_count": 3,
   "metadata": {},
   "outputs": [
    {
     "name": "stdout",
     "output_type": "stream",
     "text": [
      "[1, 'Hello']\n"
     ]
    }
   ],
   "source": [
    "# #модуль 3 ч.2 ур 1 (переделанная)\n",
    "l = [1, 4, 1, 6, 'Hello', 'a', 5, 'Hello']\n",
    "duplicates = []\n",
    "\n",
    "for i in l:\n",
    "    if l.count(i) > 1 and i not in duplicates:\n",
    "        duplicates.append(i)\n",
    "\n",
    "print(duplicates)"
   ]
  },
  {
   "cell_type": "code",
   "execution_count": 5,
   "metadata": {},
   "outputs": [
    {
     "name": "stdout",
     "output_type": "stream",
     "text": [
      "{'id1': 'name', 'id2': 'name2', 'id3': 'name3'}\n"
     ]
    }
   ],
   "source": [
    "# #модуль 3 ч.2 ур 3\n",
    "d = {'name': 'id1', 'name2': 'id2', 'name3': 'id3'}\n",
    "a = { v:k for k, v in d.items()}\n",
    "print (a)\n"
   ]
  },
  {
   "cell_type": "code",
   "execution_count": 7,
   "metadata": {},
   "outputs": [
    {
     "name": "stdout",
     "output_type": "stream",
     "text": [
      "62.353829072479584\n"
     ]
    }
   ],
   "source": [
    "# #модуль 3 ч.3 ур 1(переделаная)\n",
    "def area(a,b,c):\n",
    "    s = (a + b + c) / 2\n",
    "    return (s*(s-a)*(s-b)*(s-c)) ** 0.5"
   ]
  },
  {
   "cell_type": "code",
   "execution_count": 4,
   "metadata": {},
   "outputs": [],
   "source": [
    "# #модуль 3 ч.3 ур 2 (переделанная)\n",
    "\n",
    "def short_words(string):\n",
    "    return [word for word in string.split() if len(word) < 5]"
   ]
  },
  {
   "cell_type": "code",
   "execution_count": null,
   "metadata": {},
   "outputs": [],
   "source": [
    "# #модуль 3 ч.3 ур 3 (добавлена)\n",
    "def max_number(lst):\n",
    "    return int(''.join(map(str, sorted(lst, reverse=True))))"
   ]
  },
  {
   "cell_type": "code",
   "execution_count": 1,
   "metadata": {},
   "outputs": [],
   "source": [
    "# #модуль 3 ч.4 ур 1\n",
    "import json\n",
    "\n",
    "def register(login, passwd):\n",
    "    data = {}\n",
    "    data['login'] = login\n",
    "    data['passwd'] = passwd\n",
    "    with open('data.json', 'w') as f:\n",
    "        json.dump(data, f)\n",
    "        pass"
   ]
  },
  {
   "cell_type": "code",
   "execution_count": 5,
   "metadata": {},
   "outputs": [],
   "source": [
    "# #модуль 3 ч.4 ур 2 (добавлена)\n",
    "def register(login, passwd):\n",
    "    data = {}\n",
    "    data['login'] = login\n",
    "    data['passwd'] = passwd\n",
    "    with open('data.json', 'r') as f:\n",
    "        existing_data = json.load(f)\n",
    "        if login in existing_data:\n",
    "            print('Пользователь с таким логином уже существует!')\n",
    "        else:\n",
    "            with open('data.json', 'w') as f:\n",
    "                json.dump(data, f)"
   ]
  },
  {
   "cell_type": "code",
   "execution_count": 6,
   "metadata": {},
   "outputs": [],
   "source": [
    "# #модуль 3 ч.4 ур 3 (добавлена)\n",
    "import json\n",
    "\n",
    "def login_function(login, passwd):\n",
    "    with open('data.json', 'r') as f:\n",
    "        data = json.load(f)\n",
    "        if login in data and data[login] == passwd:\n",
    "            print('Вход выполнен успешно!')\n",
    "        else:\n",
    "            print('Неправильный логин или пароль.')"
   ]
  }
 ],
 "metadata": {
  "kernelspec": {
   "display_name": "Python 3",
   "language": "python",
   "name": "python3"
  },
  "language_info": {
   "codemirror_mode": {
    "name": "ipython",
    "version": 3
   },
   "file_extension": ".py",
   "mimetype": "text/x-python",
   "name": "python",
   "nbconvert_exporter": "python",
   "pygments_lexer": "ipython3",
   "version": "3.11.1"
  },
  "orig_nbformat": 4,
  "vscode": {
   "interpreter": {
    "hash": "1a9775085b28e8ab11dd65b7588b39efb040bc72f25fa9f97ccff4664834f981"
   }
  }
 },
 "nbformat": 4,
 "nbformat_minor": 2
}
