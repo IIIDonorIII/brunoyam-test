{
 "cells": [
  {
   "cell_type": "code",
   "execution_count": null,
   "metadata": {},
   "outputs": [],
   "source": [
    "#модуль 3 ч.1 ур 1\n",
    "x = int(input('Введите сумму вклада: '))\n",
    "p = int(input('Введите процент: '))\n",
    "y = int(input('Введите сумму цели: '))\n",
    "i = 0\n",
    "while x < y:\n",
    "    x *= 1 + p / 100\n",
    "    x = int(100 * x) / 100\n",
    "    i += 1\n",
    "print('Понадобится ', i)"
   ]
  },
  {
   "cell_type": "code",
   "execution_count": 1,
   "metadata": {},
   "outputs": [
    {
     "name": "stdout",
     "output_type": "stream",
     "text": [
      "Сумма цифр числа равна:  6\n"
     ]
    }
   ],
   "source": [
    "#модуль 3 ч.1 ур 3\n",
    "num = int(input(\"Введите целое: \"))\n",
    "sum = 0\n",
    "while (num != 0):\n",
    "    sum = sum + num % 10\n",
    "    num = num // 10\n",
    "print(\"Сумма цифр числа равна: \", sum)\n"
   ]
  },
  {
   "cell_type": "code",
   "execution_count": 2,
   "metadata": {},
   "outputs": [
    {
     "name": "stdout",
     "output_type": "stream",
     "text": [
      "[1, 'hello']\n"
     ]
    }
   ],
   "source": [
    "# #модуль 3 ч.2 ур 1\n",
    "if __name__ == '__main__':\n",
    " \n",
    "    nums = [1, 4, 1, 6, \"hello\", \"a\", 5, \"hello\"]\n",
    " \n",
    "    dup = [x for i, x in enumerate(nums) if i != nums.index(x)]\n",
    "    print(dup)  # [1, 5, 1]"
   ]
  },
  {
   "cell_type": "code",
   "execution_count": 5,
   "metadata": {},
   "outputs": [
    {
     "name": "stdout",
     "output_type": "stream",
     "text": [
      "{'id1': 'name', 'id2': 'name2', 'id3': 'name3'}\n"
     ]
    }
   ],
   "source": [
    "# #модуль 3 ч.2 ур 3\n",
    "d = {'name': 'id1', 'name2': 'id2', 'name3': 'id3'}\n",
    "a = { v:k for k, v in d.items()}\n",
    "print (a)\n"
   ]
  },
  {
   "cell_type": "code",
   "execution_count": 7,
   "metadata": {},
   "outputs": [
    {
     "name": "stdout",
     "output_type": "stream",
     "text": [
      "62.353829072479584\n"
     ]
    }
   ],
   "source": [
    "# #модуль 3 ч.3 ур 1\n",
    "import math\n",
    "a = int(input(\"Введите сторону a=\"))\n",
    "b = int(input(\"Введите сторону b=\"))\n",
    "c = int(input(\"Введите сторону c=\"))\n",
    "p = (a+b+c)/2\n",
    "s = math.sqrt(p*(p-a)*(p-b)*(p-c))\n",
    "print(s)"
   ]
  },
  {
   "cell_type": "code",
   "execution_count": 3,
   "metadata": {},
   "outputs": [
    {
     "name": "stdout",
     "output_type": "stream",
     "text": [
      "['Было', 'дуло', 'с', 'А', 'к', 'сто', 'Так', 'ноль', 'То', 'ли', 'весь', 'мир', 'с', 'ума,', 'то', 'ли', 'я', '-', 'На', 'от', 'нее', 'с', 'в', 'жжёт', 'на', 'нас', 'Если', 'как', 'жить', '-', 'живи', 'Ты', 'как', 'все', '-', 'так']\n"
     ]
    }
   ],
   "source": [
    "# #модуль 3 ч.3 ур 2\n",
    "s = '''Было просто пасмурно, дуло с севера\n",
    "А к обеду насчитал сто градаций серого.\n",
    "Так всегда первого ноль девятого\n",
    "То ли весь мир сошёл с ума, то ли я - того...\n",
    "На столе записка от нее смятая\n",
    "недопитый виски допиваю с матами.\n",
    "Посмотрю в окно, допишу главу\n",
    "Первое сентября, дворник жжёт листву.\n",
    "Серым облаком наплевать на нас\n",
    "Если хочешь как жить - живи\n",
    "Ты хотела плыть как все - так плыви!'''\n",
    "print([word for word in s.split() if len(word) in range(0, 5)])"
   ]
  },
  {
   "cell_type": "code",
   "execution_count": 1,
   "metadata": {},
   "outputs": [],
   "source": [
    "# #модуль 3 ч.4 ур 1\n",
    "import json\n",
    "\n",
    "def register(login, passwd):\n",
    "    data = {}\n",
    "    data['login'] = login\n",
    "    data['passwd'] = passwd\n",
    "    with open('data.json', 'w') as f:\n",
    "        json.dump(data, f)\n",
    "        pass"
   ]
  }
 ],
 "metadata": {
  "kernelspec": {
   "display_name": "Python 3",
   "language": "python",
   "name": "python3"
  },
  "language_info": {
   "codemirror_mode": {
    "name": "ipython",
    "version": 3
   },
   "file_extension": ".py",
   "mimetype": "text/x-python",
   "name": "python",
   "nbconvert_exporter": "python",
   "pygments_lexer": "ipython3",
   "version": "3.11.1"
  },
  "orig_nbformat": 4,
  "vscode": {
   "interpreter": {
    "hash": "02c8c94be34e5b58b1ef2a3ae4d70c15b74666c1187951d921a15c989691c9ed"
   }
  }
 },
 "nbformat": 4,
 "nbformat_minor": 2
}
