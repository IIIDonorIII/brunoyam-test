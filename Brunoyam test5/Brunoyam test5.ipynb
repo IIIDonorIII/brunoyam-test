{
 "cells": [
  {
   "cell_type": "code",
   "execution_count": 2,
   "metadata": {},
   "outputs": [
    {
     "name": "stdout",
     "output_type": "stream",
     "text": [
      "Thread-0\n",
      "Thread-1\n",
      "Thread-2\n",
      "Thread-3\n",
      "Thread-4\n"
     ]
    }
   ],
   "source": [
    "# Модуль 6 уровень 1\n",
    "import time\n",
    "import threading\n",
    "\n",
    "def get_thread(thread_name):\n",
    "    time.sleep(1)\n",
    "    print(thread_name)\n",
    "threads = []\n",
    "for i in range(5):\n",
    "    thread_name = f\"Thread-{i}\"\n",
    "    thread = threading.Thread(target=get_thread, args=(thread_name,))\n",
    "    threads.append(thread)\n",
    "    thread.start()\n",
    "    \n",
    "for thread in threads:\n",
    "    thread.join()"
   ]
  },
  {
   "cell_type": "code",
   "execution_count": 3,
   "metadata": {},
   "outputs": [
    {
     "name": "stdout",
     "output_type": "stream",
     "text": [
      "Thread-0\n",
      "Thread-1\n",
      "Thread-2\n",
      "Thread-3\n",
      "Thread-4\n",
      "Последовательное выполнение заняло 5.005306005477905 сек.\n",
      "Thread-0\n",
      "Thread-1\n",
      "Thread-2\n",
      "Thread-4\n",
      "Thread-3\n",
      "Параллельное выполнение заняло 1.0049045085906982 сек.\n"
     ]
    }
   ],
   "source": [
    "# Модуль 6 уровень 2\n",
    "import time\n",
    "import threading\n",
    "\n",
    "def get_thread(thread_name):\n",
    "    time.sleep(1)\n",
    "    print(thread_name)\n",
    "\n",
    "# Последовательный запуск потоков\n",
    "start_time = time.time()\n",
    "for i in range(5):\n",
    "    thread_name = f\"Thread-{i}\"\n",
    "    get_thread(thread_name)\n",
    "end_time = time.time()\n",
    "print(f\"Последовательное выполнение заняло {end_time - start_time} сек.\")\n",
    "\n",
    "# Параллельный запуск потоков\n",
    "start_time = time.time()\n",
    "threads = []\n",
    "for i in range(5):\n",
    "    thread_name = f\"Thread-{i}\"\n",
    "    thread = threading.Thread(target=get_thread, args=(thread_name,))\n",
    "    threads.append(thread)\n",
    "    thread.start()\n",
    "\n",
    "# Ждем завершения всех потоков\n",
    "for thread in threads:\n",
    "    thread.join()\n",
    "\n",
    "end_time = time.time()\n",
    "print(f\"Параллельное выполнение заняло {end_time - start_time} сек.\")"
   ]
  },
  {
   "cell_type": "code",
   "execution_count": 4,
   "metadata": {},
   "outputs": [
    {
     "name": "stdout",
     "output_type": "stream",
     "text": [
      "Последовательное выполнение заняло 3.54 секунд\n",
      "Параллельное выполнение заняло 3.81 секунд\n"
     ]
    }
   ],
   "source": [
    "# Модуль 6 уровень 3\n",
    "import requests\n",
    "import threading\n",
    "import time\n",
    "\n",
    "def get_html(link):\n",
    "    response = requests.get(link)\n",
    "    return response.text\n",
    "\n",
    "links = [\n",
    "    \"https://www.python.org/\",\n",
    "    \"https://github.com/\",\n",
    "    \"https://habr.com/ru/\",\n",
    "    \"https://www.wikipedia.org/\",\n",
    "    \"https://www.reddit.com/\"\n",
    "]\n",
    "\n",
    "start_time = time.time()\n",
    "\n",
    "# Последовательный запуск\n",
    "for link in links:\n",
    "    html = get_html(link)\n",
    "\n",
    "print(f\"Последовательное выполнение заняло {time.time() - start_time:.2f} секунд\")\n",
    "\n",
    "start_time = time.time()\n",
    "\n",
    "# Параллельный запуск\n",
    "threads = []\n",
    "for link in links:\n",
    "    thread = threading.Thread(target=get_html, args=(link,))\n",
    "    threads.append(thread)\n",
    "    thread.start()\n",
    "\n",
    "for thread in threads:\n",
    "    thread.join()\n",
    "\n",
    "print(f\"Параллельное выполнение заняло {time.time() - start_time:.2f} секунд\")"
   ]
  }
 ],
 "metadata": {
  "kernelspec": {
   "display_name": "Python 3",
   "language": "python",
   "name": "python3"
  },
  "language_info": {
   "codemirror_mode": {
    "name": "ipython",
    "version": 3
   },
   "file_extension": ".py",
   "mimetype": "text/x-python",
   "name": "python",
   "nbconvert_exporter": "python",
   "pygments_lexer": "ipython3",
   "version": "3.11.1"
  },
  "orig_nbformat": 4
 },
 "nbformat": 4,
 "nbformat_minor": 2
}
