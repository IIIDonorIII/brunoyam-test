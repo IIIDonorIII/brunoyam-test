{
 "cells": [
  {
   "cell_type": "code",
   "execution_count": 1,
   "metadata": {},
   "outputs": [
    {
     "name": "stdout",
     "output_type": "stream",
     "text": [
      "Hello World!\n"
     ]
    }
   ],
   "source": [
    "# модуль 5 часть1 уровень 1\n",
    "class StringVar:\n",
    "    def __init__(self):\n",
    "        self.string = ''\n",
    "        \n",
    "    def set(self, new_string):\n",
    "        self.string = new_string\n",
    "        \n",
    "    def get(self):\n",
    "        return self.string\n",
    "\n",
    "string_var = StringVar()\n",
    "string_var.set('Hello World!')\n",
    "print(string_var.get())"
   ]
  },
  {
   "cell_type": "code",
   "execution_count": 2,
   "metadata": {},
   "outputs": [
    {
     "name": "stdout",
     "output_type": "stream",
     "text": [
      "5.0\n"
     ]
    }
   ],
   "source": [
    "# модуль 5 часть1 уровень 2\n",
    "class Point:\n",
    "    def __init__(self, x=0, y=0):\n",
    "        self.x = x\n",
    "        self.y = y\n",
    "\n",
    "    def __str__(self):\n",
    "        return \"({0},{1})\".format(self.x, self.y)\n",
    "\n",
    "    def distance(self, other):\n",
    "        x_diff_sq = (self.x - other.x) ** 2\n",
    "        y_diff_sq = (self.y - other.y) ** 2\n",
    "        return (x_diff_sq + y_diff_sq) ** 0.5\n",
    "\n",
    "p1 = Point(1, 2)\n",
    "p2 = Point(4, 6)\n",
    "print(p1.distance(p2))"
   ]
  },
  {
   "cell_type": "code",
   "execution_count": 3,
   "metadata": {},
   "outputs": [
    {
     "name": "stdout",
     "output_type": "stream",
     "text": [
      "Юнит 2709556787920 атаковал юнита 2709556777552. Здоровье юнита 2709556777552: 80\n",
      "Юнит 2709556777552 атаковал юнита 2709556787920. Здоровье юнита 2709556787920: 80\n",
      "Юнит 2709556777552 атаковал юнита 2709556787920. Здоровье юнита 2709556787920: 60\n",
      "Юнит 2709556787920 атаковал юнита 2709556777552. Здоровье юнита 2709556777552: 60\n",
      "Юнит 2709556787920 атаковал юнита 2709556777552. Здоровье юнита 2709556777552: 40\n",
      "Юнит 2709556787920 атаковал юнита 2709556777552. Здоровье юнита 2709556777552: 20\n",
      "Юнит 2709556777552 атаковал юнита 2709556787920. Здоровье юнита 2709556787920: 40\n",
      "Юнит 2709556777552 атаковал юнита 2709556787920. Здоровье юнита 2709556787920: 20\n",
      "Юнит 2709556787920 атаковал юнита 2709556777552. Здоровье юнита 2709556777552: 0\n",
      "Победил Юнит 2\n"
     ]
    }
   ],
   "source": [
    "# модуль 5 часть1 уровень 3-1\n",
    "import random\n",
    "\n",
    "class Warrior:\n",
    "    def __init__(self):\n",
    "        self.health = 100\n",
    "\n",
    "    def attack(self, other):\n",
    "        other.health -= 20\n",
    "        print(f\"Юнит {id(self)} атаковал юнита {id(other)}. Здоровье юнита {id(other)}: {other.health}\")\n",
    "\n",
    "unit1 = Warrior()\n",
    "unit2 = Warrior()\n",
    "\n",
    "while unit1.health > 0 and unit2.health > 0:\n",
    "    attacker = random.choice([unit1, unit2])\n",
    "    defender = unit1 if attacker == unit2 else unit2\n",
    "    attacker.attack(defender)\n",
    "\n",
    "winner = \"Юнит 1\" if unit1.health > 0 else \"Юнит 2\"\n",
    "print(f\"Победил {winner}\")"
   ]
  },
  {
   "cell_type": "code",
   "execution_count": 10,
   "metadata": {},
   "outputs": [],
   "source": [
    "# модуль 5 часть1 уровень 3-2\n",
    "class Warrior:\n",
    "    def __init__(self, health_points, armor_points, stamina_points):\n",
    "        self.health_points = health_points\n",
    "        self.armor_points = armor_points\n",
    "        self.stamina_points = stamina_points\n",
    "\n",
    "    def attack(self):\n",
    "        self.stamina_points -= 10\n",
    "\n",
    "    def defend(self):\n",
    "        if self.armor_points > 0:\n",
    "            self.armor_points -= random.randint(0, 10)\n",
    "        else:\n",
    "            self.health_points -= random.randint(10, 30)\n",
    "\n",
    "    def fight(self, other_warrior):\n",
    "        if isinstance(other_warrior, Warrior):\n",
    "            if self.stamina_points >= 10 and other_warrior.stamina_points >= 10:\n",
    "                self.attack()\n",
    "                other_warrior.defend()\n",
    "                other_warrior.attack()\n",
    "                self.defend()\n",
    "            elif self.stamina_points >= 10:\n",
    "                self.attack()\n",
    "                other_warrior.defend()\n",
    "            elif other_warrior.stamina_points >= 10:\n",
    "                other_warrior.attack()\n",
    "                self.defend()"
   ]
  },
  {
   "cell_type": "code",
   "execution_count": null,
   "metadata": {},
   "outputs": [],
   "source": [
    "# модуль 5 часть 2\n",
    "import json\n",
    "\n",
    "class Model:\n",
    "    def __init__(self, title, text, author):\n",
    "        self.title = title\n",
    "        self.text = text\n",
    "        self.author = author\n",
    "\n",
    "    def save(self):\n",
    "        data = {\n",
    "            'title': self.title,\n",
    "            'text': self.text,\n",
    "            'author': self.author\n",
    "        }\n",
    "        with open('model.json', 'w') as f:\n",
    "            json.dump(data, f)"
   ]
  },
  {
   "cell_type": "code",
   "execution_count": null,
   "metadata": {},
   "outputs": [],
   "source": [
    "# модуль 5 часть 2(исправленная)\n",
    "class Model:\n",
    "    def __init__(self, title, text, author):\n",
    "        self.title = title\n",
    "        self.text = text\n",
    "        self.author = author\n",
    "\n",
    "    def save(self):\n",
    "        data = vars(self)\n",
    "        with open('model.json', 'w') as f:\n",
    "            json.dump(data, f)"
   ]
  }
 ],
 "metadata": {
  "kernelspec": {
   "display_name": "Python 3",
   "language": "python",
   "name": "python3"
  },
  "language_info": {
   "codemirror_mode": {
    "name": "ipython",
    "version": 3
   },
   "file_extension": ".py",
   "mimetype": "text/x-python",
   "name": "python",
   "nbconvert_exporter": "python",
   "pygments_lexer": "ipython3",
   "version": "3.11.1"
  },
  "orig_nbformat": 4
 },
 "nbformat": 4,
 "nbformat_minor": 2
}
